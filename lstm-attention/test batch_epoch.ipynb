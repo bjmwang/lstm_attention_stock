{
 "cells": [
  {
   "cell_type": "code",
   "execution_count": 9,
   "metadata": {},
   "outputs": [],
   "source": [
    "import numpy\n",
    "from sklearn.grid_search import GridSearchCV\n",
    "from keras.models import Sequential\n",
    "from keras.layers import Dense\n",
    "from keras.wrappers.scikit_learn import KerasClassifier\n"
   ]
  },
  {
   "cell_type": "code",
   "execution_count": 10,
   "metadata": {
    "collapsed": true
   },
   "outputs": [],
   "source": [
    "# Function to create model, required for KerasClassifier\n",
    "def create_model():\n",
    "    # create model\n",
    "    model = Sequential()\n",
    "    model.add(Dense(12, input_dim=8, activation='relu'))\n",
    "    model.add(Dense(1, activation='sigmoid'))\n",
    "    # Compile model\n",
    "    model.compile(loss='binary_crossentropy', optimizer='adam', metrics=['accuracy'])\n",
    "    return model"
   ]
  },
  {
   "cell_type": "code",
   "execution_count": 11,
   "metadata": {
    "collapsed": true
   },
   "outputs": [],
   "source": [
    "# fix random seed for reproducibility\n",
    "seed = 7\n",
    "numpy.random.seed(seed)"
   ]
  },
  {
   "cell_type": "code",
   "execution_count": 12,
   "metadata": {
    "collapsed": true
   },
   "outputs": [],
   "source": [
    "# load dataset\n",
    "dataset = numpy.loadtxt(\"pima-indians-diabetes.txt\", delimiter=\",\")\n",
    "# split into input (X) and output (Y) variables\n",
    "X = dataset[:,0:8]\n",
    "Y = dataset[:,8]"
   ]
  },
  {
   "cell_type": "code",
   "execution_count": 13,
   "metadata": {},
   "outputs": [
    {
     "name": "stdout",
     "output_type": "stream",
     "text": [
      "Best: 0.701823 using {'batch_size': 10, 'nb_epoch': 100}\n",
      "0.666667 (0.015733) with: {'batch_size': 10, 'nb_epoch': 10}\n",
      "0.658854 (0.032578) with: {'batch_size': 10, 'nb_epoch': 50}\n",
      "0.701823 (0.008027) with: {'batch_size': 10, 'nb_epoch': 100}\n",
      "0.606771 (0.053019) with: {'batch_size': 20, 'nb_epoch': 10}\n",
      "0.677083 (0.033197) with: {'batch_size': 20, 'nb_epoch': 50}\n",
      "0.664063 (0.008438) with: {'batch_size': 20, 'nb_epoch': 100}\n",
      "0.527344 (0.143773) with: {'batch_size': 40, 'nb_epoch': 10}\n",
      "0.658854 (0.001841) with: {'batch_size': 40, 'nb_epoch': 50}\n",
      "0.671875 (0.024080) with: {'batch_size': 40, 'nb_epoch': 100}\n",
      "0.588542 (0.047019) with: {'batch_size': 60, 'nb_epoch': 10}\n",
      "0.645833 (0.017566) with: {'batch_size': 60, 'nb_epoch': 50}\n",
      "0.558594 (0.166218) with: {'batch_size': 60, 'nb_epoch': 100}\n",
      "0.557292 (0.098941) with: {'batch_size': 80, 'nb_epoch': 10}\n",
      "0.648438 (0.044309) with: {'batch_size': 80, 'nb_epoch': 50}\n",
      "0.653646 (0.006639) with: {'batch_size': 80, 'nb_epoch': 100}\n",
      "0.430990 (0.114524) with: {'batch_size': 100, 'nb_epoch': 10}\n",
      "0.622396 (0.023073) with: {'batch_size': 100, 'nb_epoch': 50}\n",
      "0.696615 (0.018136) with: {'batch_size': 100, 'nb_epoch': 100}\n"
     ]
    }
   ],
   "source": [
    "# create model\n",
    "model = KerasClassifier(build_fn=create_model, verbose=0)\n",
    "# define the grid search parameters\n",
    "batch_size = [10, 20, 40, 60, 80, 100]\n",
    "epochs = [10, 50, 100]\n",
    "param_grid = dict(batch_size=batch_size, nb_epoch=epochs)\n",
    "grid = GridSearchCV(estimator=model, param_grid=param_grid, n_jobs=1)\n",
    "grid_result = grid.fit(X, Y)\n",
    "# summarize results\n",
    "print(\"Best: %f using %s\" % (grid_result.best_score_, grid_result.best_params_))\n",
    "for params, mean_score, scores in grid_result.grid_scores_:\n",
    "    print(\"%f (%f) with: %r\" % (scores.mean(), scores.std(), params))"
   ]
  }
 ],
 "metadata": {
  "kernelspec": {
   "display_name": "Python 3",
   "language": "python",
   "name": "python3"
  },
  "language_info": {
   "codemirror_mode": {
    "name": "ipython",
    "version": 3
   },
   "file_extension": ".py",
   "mimetype": "text/x-python",
   "name": "python",
   "nbconvert_exporter": "python",
   "pygments_lexer": "ipython3",
   "version": "3.6.3"
  }
 },
 "nbformat": 4,
 "nbformat_minor": 2
}
